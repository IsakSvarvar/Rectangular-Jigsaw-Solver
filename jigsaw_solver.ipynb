{
  "nbformat": 4,
  "nbformat_minor": 0,
  "metadata": {
    "colab": {
      "provenance": []
    },
    "kernelspec": {
      "name": "python3",
      "display_name": "Python 3"
    },
    "language_info": {
      "name": "python"
    }
  },
  "cells": [
    {
      "cell_type": "markdown",
      "source": [
        "## Rectangular Jigsaw Placement\n",
        "\n",
        "Go to last cell to run the code"
      ],
      "metadata": {
        "id": "5n7cvjpd9fsl"
      }
    },
    {
      "cell_type": "code",
      "source": [
        "import random\n",
        "import matplotlib.pyplot as plt\n",
        "import matplotlib.patches as patches\n",
        "import math"
      ],
      "metadata": {
        "id": "-SO6XJ1-F0mW"
      },
      "execution_count": null,
      "outputs": []
    },
    {
      "cell_type": "code",
      "source": [
        "#Dimensions of box\n",
        "K, Q = 3, 13\n",
        "\n",
        "#Dimensions of rectangles [(width,height),...]\n",
        "rectangles = [(2, 7), (1, 3), (1, 7), (3, 3), (2,3)]"
      ],
      "metadata": {
        "id": "d3GXT_BQIVEN"
      },
      "execution_count": null,
      "outputs": []
    },
    {
      "cell_type": "code",
      "execution_count": null,
      "metadata": {
        "id": "CNoIrXFmDnaJ"
      },
      "outputs": [],
      "source": [
        "#Solver\n",
        "\n",
        "#Initial solution places the rectangles randomly within the box\n",
        "def generate_initial_solution(rectangles, K, Q):\n",
        "    solution = []\n",
        "    for (width, height) in rectangles:\n",
        "        x = random.randint(0, K - width)\n",
        "        y = random.randint(0, Q - height)\n",
        "        solution.append((x, y))\n",
        "    #print(f\"initial solution: {solution}\")\n",
        "    return solution\n",
        "\n",
        "#Neighbor generation (by moving a random rectangle)\n",
        "def generate_neighbor(solution, rectangles, K, Q):\n",
        "    neighbor = solution.copy()\n",
        "    #Select a random rectangle\n",
        "    random_rect = random.randint(0, len(rectangles) - 1)\n",
        "    width, height = rectangles[random_rect]\n",
        "\n",
        "    #Randomly move the rectangle\n",
        "    new_x = random.randint(0, K - width)\n",
        "    new_y = random.randint(0, Q - height)\n",
        "\n",
        "    neighbor[random_rect] = (new_x, new_y)\n",
        "    return neighbor\n",
        "\n",
        "'''Neighbor value calculation functions'''\n",
        "\n",
        "#Overlap calculation\n",
        "def calculate_overlap(rect1, rect2):\n",
        "    #Extract size and placement\n",
        "    w1, h1, x1, y1 = rect1\n",
        "    w2, h2, x2, y2 = rect2\n",
        "\n",
        "    #Calculate overlap\n",
        "    overlap_x = max(0, min(x1+w1, x2+w2) - max(x1, x2))\n",
        "    overlap_y = max(0, min(y1+h1, y2+h2) - max(y1, y2))\n",
        "\n",
        "    return overlap_x * overlap_y\n",
        "\n",
        "#Box boundary calculation\n",
        "def check_boundary_violation(rect, K, Q):\n",
        "    violation = 0\n",
        "    x, y, w, h = rect\n",
        "    #Right edge\n",
        "    if x + w > K:\n",
        "        violation += (x + w - K) * h\n",
        "    #Bottom edg\n",
        "    if y + h > Q:\n",
        "        violation += (y + h - Q) * w\n",
        "    #Left edge\n",
        "    if x < 0:\n",
        "        violation += abs(x) * h\n",
        "    #Top edge\n",
        "    if y < 0:\n",
        "        violation += abs(y) * w\n",
        "\n",
        "    return violation\n",
        "\n",
        "#Value calculation\n",
        "def calculate_value(solution, rectangles, K, Q):\n",
        "    total_overlap = 0\n",
        "    total_violation = 0\n",
        "\n",
        "    #Check overlaps\n",
        "    for i in range(len(rectangles)):\n",
        "        for j in range(i+1, len(rectangles)):\n",
        "            overlap = calculate_overlap(rectangles[i] + solution[i], rectangles[j] + solution[j])\n",
        "            total_overlap += overlap\n",
        "\n",
        "    #Check boundary violations\n",
        "    for i in range(len(rectangles)):\n",
        "        violation = check_boundary_violation(rectangles[i] + solution[i], K, Q)\n",
        "        total_violation += violation\n",
        "\n",
        "    #Combine for an error value\n",
        "    return total_overlap + total_violation\n",
        "\n",
        "'''SA functions'''\n",
        "\n",
        "#Acceptance probability\n",
        "def acceptance_probability(old_cost, new_cost, temp):\n",
        "    if new_cost < old_cost:\n",
        "        return 1.0\n",
        "    return math.exp((old_cost - new_cost) / temp)\n",
        "\n",
        "#Simulated anealing function\n",
        "def simulated_annealing(rectangles, temp, cooling_rate):\n",
        "    current_solution = generate_initial_solution(rectangles, K, Q)\n",
        "    current_value = calculate_value(current_solution, rectangles, K, Q)\n",
        "    best_solution = current_solution\n",
        "    best_value = current_value\n",
        "    max_temp = temp\n",
        "    loop_count = 0\n",
        "\n",
        "    #Keep reheating the oven if solution hasnt been found (or until max loop amount has been hit)\n",
        "    while best_value > 0 and loop_count < 10:\n",
        "        while temp > 1:\n",
        "              neighbor = generate_neighbor(current_solution, rectangles, K, Q)\n",
        "              neighbor_value = calculate_value(neighbor, rectangles, K, Q)\n",
        "\n",
        "              if acceptance_probability(current_value, neighbor_value, temp) > random.random():\n",
        "                  current_solution = neighbor\n",
        "                  current_value = neighbor_value\n",
        "\n",
        "              if current_value < best_value:\n",
        "                  best_solution = current_solution\n",
        "                  best_value = current_value\n",
        "\n",
        "              temp *= cooling_rate\n",
        "        #if it hasnt found a optimal solution yet, retry\n",
        "        if best_value > 0:\n",
        "            print(f\"No valid solution has been found, looping SA function (best value: {best_value})\")\n",
        "            temp = max_temp\n",
        "            loop_count += 1\n",
        "\n",
        "    if loop_count >= 10:\n",
        "        print(f\"Loop limit reached\")\n",
        "    print(f\"value of best solution: {best_value}\")\n",
        "    return best_solution"
      ]
    },
    {
      "cell_type": "code",
      "source": [
        "#Visualisation\n",
        "\n",
        "#Generate random color\n",
        "def random_color():\n",
        "    return [random.random() for _ in range(3)]\n",
        "\n",
        "#Visualize with matplotlib\n",
        "def visualize_solution(rectangles, solution, K, Q):\n",
        "    fig, ax = plt.subplots()\n",
        "    ax.set_xlim(0, K)\n",
        "    ax.set_ylim(0, Q)\n",
        "\n",
        "    for (width, height), (x, y) in zip(rectangles, solution):\n",
        "        color = random_color()\n",
        "        ax.add_patch(patches.Rectangle((x, y), width, height, fill=True, facecolor=color, edgecolor='black'))\n",
        "\n",
        "    plt.show()"
      ],
      "metadata": {
        "id": "Tb4h69aBIS7s"
      },
      "execution_count": null,
      "outputs": []
    },
    {
      "cell_type": "code",
      "source": [
        "#Run solver\n",
        "\n",
        "#Options, uncomment if you want to change them\n",
        "#K, Q = 3, 13\n",
        "#rectangles = [(2, 7), (1, 3), (1, 7), (3, 3), (2,3)]\n",
        "\n",
        "#Temperature and cooling rate for SA\n",
        "initial_temp = 100   #default 100\n",
        "cooling_rate = 0.999   #default 0.999\n",
        "\n",
        "#Run solver\n",
        "solution = simulated_annealing(rectangles, initial_temp, cooling_rate)\n",
        "\n",
        "#Visualisation\n",
        "visualize_solution(rectangles, solution, K, Q)"
      ],
      "metadata": {
        "colab": {
          "base_uri": "https://localhost:8080/",
          "height": 465
        },
        "id": "xNenewqTIyhM",
        "outputId": "53cba32d-4535-4acf-9820-80136b7d5470"
      },
      "execution_count": null,
      "outputs": [
        {
          "output_type": "stream",
          "name": "stdout",
          "text": [
            "No working solution has been found, looping SA function (best value: 1)\n",
            "value of best solution: 0\n"
          ]
        },
        {
          "output_type": "display_data",
          "data": {
            "text/plain": [
              "<Figure size 640x480 with 1 Axes>"
            ],
            "image/png": "[encoded data removed]"
          },
          "metadata": {}
        }
      ]
    }
  ]
}